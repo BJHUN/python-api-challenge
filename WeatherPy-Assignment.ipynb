{
 "cells": [
  {
   "cell_type": "markdown",
   "metadata": {},
   "source": [
    "# WeatherPy\n",
    "----\n",
    "\n",
    "#### Note\n",
    "* Instructions have been included for each segment. You do not have to follow them exactly, but they are included to help you think through the steps."
   ]
  },
  {
   "cell_type": "code",
   "execution_count": 2,
   "metadata": {
    "scrolled": true
   },
   "outputs": [],
   "source": [
    "# Dependencies and Setup\n",
    "import matplotlib.pyplot as plt\n",
    "import pandas as pd\n",
    "import numpy as np\n",
    "import requests\n",
    "import time\n",
    "from scipy.stats import linregress\n",
    "\n",
    "# Import API key\n",
    "from api_keys import weather_api_key\n",
    "\n",
    "# Incorporated citipy to determine city based on latitude and longitude\n",
    "from citipy import citipy\n",
    "\n",
    "# Output File (CSV)\n",
    "output_data_file = \"output_data/cities.csv\"\n",
    "\n",
    "# Range of latitudes and longitudes\n",
    "lat_range = (-90, 90)\n",
    "lng_range = (-180, 180)"
   ]
  },
  {
   "cell_type": "markdown",
   "metadata": {},
   "source": [
    "## Generate Cities List"
   ]
  },
  {
   "cell_type": "code",
   "execution_count": 3,
   "metadata": {},
   "outputs": [
    {
     "data": {
      "text/plain": [
       "606"
      ]
     },
     "execution_count": 3,
     "metadata": {},
     "output_type": "execute_result"
    }
   ],
   "source": [
    "lat_lngs = []\n",
    "cities = []\n",
    "\n",
    "lats = np.random.uniform(lat_range[0], lat_range[1], size=1500)\n",
    "lngs = np.random.uniform(lng_range[0], lng_range[1], size=1500)\n",
    "lat_lngs = zip(lats, lngs)\n",
    "\n",
    "for lat_lng in lat_lngs:\n",
    "    city = citipy.nearest_city(lat_lng[0], lat_lng[1]).city_name\n",
    "    country = citipy.nearest_city(lat_lng[0], lat_lng[1]).country_code\n",
    "    \n",
    "    if city not in cities:\n",
    "        cities.append(city)\n",
    "\n",
    "len(cities)"
   ]
  },
  {
   "cell_type": "markdown",
   "metadata": {},
   "source": [
    "### Perform API Calls\n",
    "* Perform a weather check on each city using a series of successive API calls.\n",
    "* Include a print log of each city as it'sbeing processed (with the city number and city name).\n",
    "\n",
    "> **HINT:** The OpenWeatherMap API only allows 60 calls per minute under their free plan. Try using `time.sleep(60)` after each set of 50 cities to avoid API errors due to large calls."
   ]
  },
  {
   "cell_type": "code",
   "execution_count": 4,
   "metadata": {
    "scrolled": true
   },
   "outputs": [
    {
     "name": "stdout",
     "output_type": "stream",
     "text": [
      "------------------------------\n",
      "Beginning Data Retrieval\n",
      "------------------------------\n",
      "Processing Record 1 or Set 1 | cerritos\n",
      "Processing Record 2 or Set 1 | sitka\n",
      "Processing Record 3 or Set 1 | hermanus\n",
      "Processing Record 4 or Set 1 | tateyama\n",
      "Processing Record 5 or Set 1 | kapaa\n",
      "Processing Record 6 or Set 1 | colonia\n",
      "Processing Record 7 or Set 1 | yellowknife\n",
      "Processing Record 8 or Set 1 | ixtapa\n",
      "Processing Record 9 or Set 1 | rikitea\n",
      "Processing Record 10 or Set 1 | jamestown\n",
      "Processing Record 11 or Set 1 | buenos aires\n",
      "Processing Record 12 or Set 1 | itamarandiba\n",
      "Processing Record 13 or Set 1 | punta arenas\n",
      "City not found. Skipping...\n",
      "Processing Record 14 or Set 1 | moose factory\n",
      "Processing Record 15 or Set 1 | kavaratti\n",
      "Processing Record 16 or Set 1 | jiwani\n",
      "Processing Record 17 or Set 1 | brae\n",
      "Processing Record 18 or Set 1 | lekoni\n",
      "Processing Record 19 or Set 1 | chuy\n",
      "Processing Record 20 or Set 1 | tuktoyaktuk\n",
      "Processing Record 21 or Set 1 | upernavik\n",
      "Processing Record 22 or Set 1 | massakory\n",
      "Processing Record 23 or Set 1 | chokurdakh\n",
      "Processing Record 24 or Set 1 | khatanga\n",
      "Processing Record 25 or Set 1 | bandarbeyla\n",
      "Processing Record 26 or Set 1 | busselton\n",
      "Processing Record 27 or Set 1 | saint-pierre\n",
      "Processing Record 28 or Set 1 | ushuaia\n",
      "Processing Record 29 or Set 1 | atuona\n",
      "Processing Record 30 or Set 1 | kodinar\n",
      "Processing Record 31 or Set 1 | rocha\n",
      "Processing Record 32 or Set 1 | new norfolk\n",
      "Processing Record 33 or Set 1 | ulaangom\n",
      "Processing Record 34 or Set 1 | mar del plata\n",
      "Processing Record 35 or Set 1 | xuddur\n",
      "Processing Record 36 or Set 1 | tiksi\n",
      "Processing Record 37 or Set 1 | albany\n",
      "Processing Record 38 or Set 1 | korla\n",
      "Processing Record 39 or Set 1 | nikolskoye\n",
      "Processing Record 40 or Set 1 | necochea\n",
      "Processing Record 41 or Set 1 | anahuac\n",
      "Processing Record 42 or Set 1 | pekan\n",
      "Processing Record 43 or Set 1 | san carlos\n",
      "City not found. Skipping...\n",
      "City not found. Skipping...\n",
      "Processing Record 44 or Set 1 | vaini\n",
      "Processing Record 45 or Set 1 | lazaro cardenas\n",
      "Processing Record 46 or Set 1 | clyde river\n",
      "Processing Record 47 or Set 1 | mataura\n",
      "Processing Record 48 or Set 1 | pakokku\n",
      "Processing Record 49 or Set 1 | thompson\n",
      "Processing Record 1 or Set 2 | akcakoca\n",
      "Processing Record 2 or Set 2 | ilulissat\n",
      "Processing Record 3 or Set 2 | nome\n",
      "Processing Record 4 or Set 2 | barrow\n",
      "Processing Record 5 or Set 2 | comodoro rivadavia\n",
      "Processing Record 6 or Set 2 | svay rieng\n",
      "Processing Record 7 or Set 2 | tsiroanomandidy\n",
      "Processing Record 8 or Set 2 | port alfred\n",
      "Processing Record 9 or Set 2 | bilibino\n",
      "Processing Record 10 or Set 2 | lewistown\n",
      "Processing Record 11 or Set 2 | oranjestad\n",
      "Processing Record 12 or Set 2 | leningradskiy\n",
      "Processing Record 13 or Set 2 | omachi\n",
      "Processing Record 14 or Set 2 | berlevag\n",
      "City not found. Skipping...\n",
      "Processing Record 15 or Set 2 | port blair\n",
      "Processing Record 16 or Set 2 | bathsheba\n",
      "Processing Record 17 or Set 2 | palmas de monte alto\n",
      "Processing Record 18 or Set 2 | lompoc\n",
      "Processing Record 19 or Set 2 | dikson\n",
      "Processing Record 20 or Set 2 | san patricio\n",
      "Processing Record 21 or Set 2 | oakdale\n",
      "Processing Record 22 or Set 2 | bluff\n",
      "Processing Record 23 or Set 2 | talnakh\n",
      "City not found. Skipping...\n",
      "Processing Record 24 or Set 2 | dingle\n",
      "Processing Record 25 or Set 2 | saumur\n",
      "Processing Record 26 or Set 2 | cam ranh\n",
      "Processing Record 27 or Set 2 | avarua\n",
      "Processing Record 28 or Set 2 | morehead\n",
      "Processing Record 29 or Set 2 | longyearbyen\n",
      "City not found. Skipping...\n",
      "Processing Record 30 or Set 2 | banjar\n",
      "Processing Record 31 or Set 2 | sao filipe\n",
      "Processing Record 32 or Set 2 | fortuna\n",
      "Processing Record 33 or Set 2 | kununurra\n",
      "Processing Record 34 or Set 2 | eyl\n",
      "City not found. Skipping...\n",
      "Processing Record 35 or Set 2 | kuldiga\n",
      "Processing Record 36 or Set 2 | griffith\n",
      "Processing Record 37 or Set 2 | north platte\n",
      "Processing Record 38 or Set 2 | aksarka\n",
      "Processing Record 39 or Set 2 | severo-kurilsk\n",
      "City not found. Skipping...\n",
      "Processing Record 40 or Set 2 | nadym\n",
      "Processing Record 41 or Set 2 | huacho\n",
      "Processing Record 42 or Set 2 | ola\n",
      "Processing Record 43 or Set 2 | kruisfontein\n",
      "Processing Record 44 or Set 2 | beyneu\n",
      "Processing Record 45 or Set 2 | langsa\n",
      "Processing Record 46 or Set 2 | pisco\n",
      "Processing Record 47 or Set 2 | dawlatabad\n",
      "Processing Record 48 or Set 2 | ashti\n",
      "Processing Record 49 or Set 2 | hofn\n",
      "Processing Record 1 or Set 3 | port elizabeth\n",
      "City not found. Skipping...\n",
      "Processing Record 2 or Set 3 | qobustan\n",
      "Processing Record 3 or Set 3 | quatre cocos\n",
      "Processing Record 4 or Set 3 | cape town\n",
      "City not found. Skipping...\n",
      "Processing Record 5 or Set 3 | pevek\n",
      "Processing Record 6 or Set 3 | hithadhoo\n",
      "Processing Record 7 or Set 3 | qaanaaq\n",
      "Processing Record 8 or Set 3 | samarai\n",
      "Processing Record 9 or Set 3 | verkhnyaya inta\n",
      "City not found. Skipping...\n",
      "Processing Record 10 or Set 3 | axim\n",
      "City not found. Skipping...\n",
      "Processing Record 11 or Set 3 | mahebourg\n",
      "Processing Record 12 or Set 3 | diamantino\n",
      "Processing Record 13 or Set 3 | lagoa\n",
      "City not found. Skipping...\n",
      "Processing Record 14 or Set 3 | riyadh\n",
      "Processing Record 15 or Set 3 | hobart\n",
      "Processing Record 16 or Set 3 | poltavka\n",
      "Processing Record 17 or Set 3 | castro\n",
      "Processing Record 18 or Set 3 | hilo\n",
      "Processing Record 19 or Set 3 | belmonte\n",
      "Processing Record 20 or Set 3 | kisarawe\n",
      "Processing Record 21 or Set 3 | ingham\n",
      "Processing Record 22 or Set 3 | chiang rai\n",
      "Processing Record 23 or Set 3 | dodge city\n",
      "Processing Record 24 or Set 3 | kahului\n",
      "Processing Record 25 or Set 3 | katsuura\n",
      "Processing Record 26 or Set 3 | souillac\n",
      "Processing Record 27 or Set 3 | ordynskoye\n",
      "Processing Record 28 or Set 3 | grindavik\n",
      "Processing Record 29 or Set 3 | vila franca do campo\n",
      "Processing Record 30 or Set 3 | bredasdorp\n",
      "Processing Record 31 or Set 3 | vilyuysk\n",
      "Processing Record 32 or Set 3 | kpandae\n",
      "City not found. Skipping...\n",
      "Processing Record 33 or Set 3 | puerto ayora\n",
      "Processing Record 34 or Set 3 | victoria\n",
      "Processing Record 35 or Set 3 | normandin\n",
      "Processing Record 36 or Set 3 | jalu\n",
      "Processing Record 37 or Set 3 | itaqui\n",
      "Processing Record 38 or Set 3 | lufilufi\n",
      "Processing Record 39 or Set 3 | mao\n",
      "Processing Record 40 or Set 3 | airai\n",
      "Processing Record 41 or Set 3 | half moon bay\n",
      "Processing Record 42 or Set 3 | ponta do sol\n",
      "Processing Record 43 or Set 3 | pimentel\n",
      "Processing Record 44 or Set 3 | haines junction\n",
      "Processing Record 45 or Set 3 | vergara\n",
      "Processing Record 46 or Set 3 | tucuman\n",
      "Processing Record 47 or Set 3 | ust-nera\n",
      "Processing Record 48 or Set 3 | nucsoara\n",
      "Processing Record 49 or Set 3 | mozhga\n",
      "Processing Record 1 or Set 4 | youghal\n",
      "Processing Record 2 or Set 4 | fairbanks\n",
      "Processing Record 3 or Set 4 | general roca\n",
      "Processing Record 4 or Set 4 | nhulunbuy\n",
      "Processing Record 5 or Set 4 | paris\n",
      "Processing Record 6 or Set 4 | florianopolis\n",
      "Processing Record 7 or Set 4 | anloga\n",
      "City not found. Skipping...\n",
      "Processing Record 8 or Set 4 | sasovo\n",
      "Processing Record 9 or Set 4 | butaritari\n",
      "Processing Record 10 or Set 4 | sao felix do xingu\n",
      "Processing Record 11 or Set 4 | singapore\n",
      "Processing Record 12 or Set 4 | filadelfia\n",
      "Processing Record 13 or Set 4 | arman\n",
      "Processing Record 14 or Set 4 | tuatapere\n",
      "Processing Record 15 or Set 4 | aklavik\n",
      "Processing Record 16 or Set 4 | tual\n",
      "Processing Record 17 or Set 4 | pabbi\n",
      "Processing Record 18 or Set 4 | murray bridge\n",
      "Processing Record 19 or Set 4 | luderitz\n",
      "Processing Record 20 or Set 4 | liverpool\n",
      "Processing Record 21 or Set 4 | komsomolskiy\n",
      "Processing Record 22 or Set 4 | kaitangata\n",
      "Processing Record 23 or Set 4 | ahipara\n",
      "Processing Record 24 or Set 4 | zdvinsk\n",
      "Processing Record 25 or Set 4 | huarmey\n",
      "Processing Record 26 or Set 4 | high level\n",
      "Processing Record 27 or Set 4 | ewa beach\n",
      "Processing Record 28 or Set 4 | bengkulu\n",
      "Processing Record 29 or Set 4 | provideniya\n",
      "Processing Record 30 or Set 4 | botwood\n",
      "City not found. Skipping...\n",
      "Processing Record 31 or Set 4 | sayyan\n",
      "Processing Record 32 or Set 4 | ancud\n",
      "Processing Record 33 or Set 4 | lata\n",
      "Processing Record 34 or Set 4 | kodiak\n",
      "Processing Record 35 or Set 4 | ambovombe\n",
      "Processing Record 36 or Set 4 | cedar city\n",
      "Processing Record 37 or Set 4 | pacific grove\n",
      "Processing Record 38 or Set 4 | aykhal\n",
      "Processing Record 39 or Set 4 | savelugu\n",
      "Processing Record 40 or Set 4 | scottsbluff\n"
     ]
    },
    {
     "name": "stdout",
     "output_type": "stream",
     "text": [
      "Processing Record 41 or Set 4 | malindi\n",
      "City not found. Skipping...\n",
      "City not found. Skipping...\n",
      "Processing Record 42 or Set 4 | vao\n",
      "Processing Record 43 or Set 4 | puri\n",
      "Processing Record 44 or Set 4 | hambantota\n",
      "Processing Record 45 or Set 4 | moree\n",
      "Processing Record 46 or Set 4 | myitkyina\n",
      "Processing Record 47 or Set 4 | namatanai\n",
      "Processing Record 48 or Set 4 | lorengau\n",
      "Processing Record 49 or Set 4 | gornopravdinsk\n",
      "Processing Record 1 or Set 5 | batemans bay\n",
      "Processing Record 2 or Set 5 | tiarei\n",
      "Processing Record 3 or Set 5 | sao joao da barra\n",
      "Processing Record 4 or Set 5 | bethel\n",
      "Processing Record 5 or Set 5 | east london\n",
      "Processing Record 6 or Set 5 | paredon\n",
      "City not found. Skipping...\n",
      "Processing Record 7 or Set 5 | mantua\n",
      "Processing Record 8 or Set 5 | marinette\n",
      "Processing Record 9 or Set 5 | lisakovsk\n",
      "Processing Record 10 or Set 5 | tazovskiy\n",
      "Processing Record 11 or Set 5 | belaya gora\n",
      "City not found. Skipping...\n",
      "Processing Record 12 or Set 5 | nouadhibou\n",
      "Processing Record 13 or Set 5 | canutama\n",
      "City not found. Skipping...\n",
      "Processing Record 14 or Set 5 | botou\n",
      "City not found. Skipping...\n",
      "City not found. Skipping...\n",
      "Processing Record 15 or Set 5 | neepawa\n",
      "City not found. Skipping...\n",
      "Processing Record 16 or Set 5 | los llanos de aridane\n",
      "City not found. Skipping...\n",
      "Processing Record 17 or Set 5 | steinbach\n",
      "Processing Record 18 or Set 5 | ribeira grande\n",
      "Processing Record 19 or Set 5 | lagos\n",
      "Processing Record 20 or Set 5 | burns lake\n",
      "Processing Record 21 or Set 5 | carnarvon\n",
      "Processing Record 22 or Set 5 | port moresby\n",
      "Processing Record 23 or Set 5 | abu samrah\n",
      "Processing Record 24 or Set 5 | muli\n",
      "Processing Record 25 or Set 5 | belyy yar\n",
      "Processing Record 26 or Set 5 | tasiilaq\n",
      "Processing Record 27 or Set 5 | paita\n",
      "Processing Record 28 or Set 5 | geraldton\n",
      "Processing Record 29 or Set 5 | arraial do cabo\n",
      "Processing Record 30 or Set 5 | iqaluit\n",
      "City not found. Skipping...\n",
      "Processing Record 31 or Set 5 | benghazi\n",
      "Processing Record 32 or Set 5 | imbituba\n",
      "Processing Record 33 or Set 5 | hamilton\n",
      "Processing Record 34 or Set 5 | esperance\n",
      "Processing Record 35 or Set 5 | narsaq\n",
      "Processing Record 36 or Set 5 | saskylakh\n",
      "Processing Record 37 or Set 5 | lasa\n",
      "Processing Record 38 or Set 5 | lovozero\n",
      "Processing Record 39 or Set 5 | vila\n",
      "Processing Record 40 or Set 5 | shingu\n",
      "Processing Record 41 or Set 5 | yabelo\n",
      "Processing Record 42 or Set 5 | norman wells\n",
      "Processing Record 43 or Set 5 | saint-philippe\n",
      "Processing Record 44 or Set 5 | asau\n",
      "Processing Record 45 or Set 5 | conceicao do araguaia\n",
      "Processing Record 46 or Set 5 | pochutla\n",
      "Processing Record 47 or Set 5 | nemuro\n",
      "Processing Record 48 or Set 5 | almaznyy\n",
      "City not found. Skipping...\n",
      "Processing Record 49 or Set 5 | karratha\n",
      "Processing Record 1 or Set 6 | gasa\n",
      "Processing Record 2 or Set 6 | cidreira\n",
      "Processing Record 3 or Set 6 | atar\n",
      "Processing Record 4 or Set 6 | marzuq\n",
      "Processing Record 5 or Set 6 | yanaul\n",
      "Processing Record 6 or Set 6 | liwale\n",
      "Processing Record 7 or Set 6 | kavieng\n",
      "Processing Record 8 or Set 6 | xiongzhou\n",
      "City not found. Skipping...\n",
      "Processing Record 9 or Set 6 | hay river\n",
      "Processing Record 10 or Set 6 | rondonopolis\n",
      "Processing Record 11 or Set 6 | codrington\n",
      "Processing Record 12 or Set 6 | fort nelson\n",
      "Processing Record 13 or Set 6 | rawson\n",
      "City not found. Skipping...\n",
      "Processing Record 14 or Set 6 | nabire\n",
      "Processing Record 15 or Set 6 | sijunjung\n",
      "Processing Record 16 or Set 6 | quelimane\n",
      "Processing Record 17 or Set 6 | seymchan\n",
      "Processing Record 18 or Set 6 | san severo\n",
      "Processing Record 19 or Set 6 | ruteng\n",
      "Processing Record 20 or Set 6 | saldanha\n",
      "Processing Record 21 or Set 6 | namibe\n",
      "Processing Record 22 or Set 6 | chitral\n",
      "Processing Record 23 or Set 6 | asmar\n",
      "Processing Record 24 or Set 6 | kendari\n",
      "Processing Record 25 or Set 6 | cairns\n",
      "Processing Record 26 or Set 6 | minnedosa\n",
      "Processing Record 27 or Set 6 | tapolca\n",
      "Processing Record 28 or Set 6 | san vicente\n",
      "Processing Record 29 or Set 6 | anadyr\n",
      "Processing Record 30 or Set 6 | alofi\n",
      "Processing Record 31 or Set 6 | reconquista\n",
      "Processing Record 32 or Set 6 | luwuk\n",
      "Processing Record 33 or Set 6 | bagnara calabra\n",
      "Processing Record 34 or Set 6 | ortona\n",
      "Processing Record 35 or Set 6 | raiwind\n",
      "Processing Record 36 or Set 6 | ploemeur\n",
      "Processing Record 37 or Set 6 | cherskiy\n",
      "Processing Record 38 or Set 6 | portsmouth\n",
      "Processing Record 39 or Set 6 | adrar\n",
      "Processing Record 40 or Set 6 | qui nhon\n",
      "Processing Record 41 or Set 6 | georgetown\n",
      "Processing Record 42 or Set 6 | olafsvik\n",
      "Processing Record 43 or Set 6 | okahandja\n",
      "Processing Record 44 or Set 6 | quzhou\n",
      "Processing Record 45 or Set 6 | daugavpils\n",
      "Processing Record 46 or Set 6 | jacqueville\n",
      "Processing Record 47 or Set 6 | paamiut\n",
      "Processing Record 48 or Set 6 | eureka\n",
      "City not found. Skipping...\n",
      "Processing Record 49 or Set 6 | de-kastri\n",
      "Processing Record 1 or Set 7 | tezu\n",
      "Processing Record 2 or Set 7 | kutum\n",
      "Processing Record 3 or Set 7 | coquimbo\n",
      "Processing Record 4 or Set 7 | san policarpo\n",
      "Processing Record 5 or Set 7 | road town\n",
      "Processing Record 6 or Set 7 | marsaxlokk\n",
      "Processing Record 7 or Set 7 | fort-shevchenko\n",
      "Processing Record 8 or Set 7 | salalah\n",
      "Processing Record 9 or Set 7 | torbay\n",
      "Processing Record 10 or Set 7 | dalmatovo\n",
      "Processing Record 11 or Set 7 | port hardy\n",
      "Processing Record 12 or Set 7 | vangaindrano\n",
      "Processing Record 13 or Set 7 | alexandria\n",
      "Processing Record 14 or Set 7 | manta\n",
      "Processing Record 15 or Set 7 | carutapera\n",
      "Processing Record 16 or Set 7 | hami\n",
      "Processing Record 17 or Set 7 | sokolka\n",
      "Processing Record 18 or Set 7 | meulaboh\n",
      "Processing Record 19 or Set 7 | yarada\n",
      "Processing Record 20 or Set 7 | hobyo\n",
      "Processing Record 21 or Set 7 | kone\n",
      "Processing Record 22 or Set 7 | bambous virieux\n",
      "Processing Record 23 or Set 7 | guadalupe victoria\n",
      "Processing Record 24 or Set 7 | cuiluan\n",
      "Processing Record 25 or Set 7 | sedlcany\n",
      "Processing Record 26 or Set 7 | malangali\n",
      "Processing Record 27 or Set 7 | catamarca\n",
      "Processing Record 28 or Set 7 | hasaki\n",
      "Processing Record 29 or Set 7 | logansport\n",
      "Processing Record 30 or Set 7 | petauke\n",
      "Processing Record 31 or Set 7 | khumalag\n",
      "City not found. Skipping...\n",
      "Processing Record 32 or Set 7 | saint george\n",
      "City not found. Skipping...\n",
      "Processing Record 33 or Set 7 | monchegorsk\n",
      "Processing Record 34 or Set 7 | odienne\n",
      "City not found. Skipping...\n",
      "Processing Record 35 or Set 7 | sassandra\n",
      "Processing Record 36 or Set 7 | bozhou\n",
      "Processing Record 37 or Set 7 | sencha\n",
      "Processing Record 38 or Set 7 | nara\n",
      "City not found. Skipping...\n",
      "Processing Record 39 or Set 7 | jiayuguan\n",
      "Processing Record 40 or Set 7 | dehloran\n",
      "Processing Record 41 or Set 7 | council bluffs\n",
      "City not found. Skipping...\n",
      "Processing Record 42 or Set 7 | vardo\n",
      "Processing Record 43 or Set 7 | vrangel\n",
      "Processing Record 44 or Set 7 | leshukonskoye\n",
      "Processing Record 45 or Set 7 | cayenne\n",
      "City not found. Skipping...\n",
      "Processing Record 46 or Set 7 | kariba\n",
      "Processing Record 47 or Set 7 | havre-saint-pierre\n",
      "City not found. Skipping...\n",
      "Processing Record 48 or Set 7 | friesach\n",
      "City not found. Skipping...\n",
      "Processing Record 49 or Set 7 | mirnyy\n",
      "Processing Record 1 or Set 8 | vaitape\n",
      "Processing Record 2 or Set 8 | sept-iles\n",
      "Processing Record 3 or Set 8 | san cristobal\n",
      "Processing Record 4 or Set 8 | nago\n",
      "Processing Record 5 or Set 8 | beidao\n",
      "Processing Record 6 or Set 8 | loukhi\n",
      "City not found. Skipping...\n",
      "Processing Record 7 or Set 8 | tsogni\n",
      "Processing Record 8 or Set 8 | tabuk\n",
      "Processing Record 9 or Set 8 | faanui\n",
      "Processing Record 10 or Set 8 | poum\n",
      "Processing Record 11 or Set 8 | siaya\n",
      "Processing Record 12 or Set 8 | mount gambier\n",
      "Processing Record 13 or Set 8 | omboue\n",
      "Processing Record 14 or Set 8 | ouadda\n",
      "Processing Record 15 or Set 8 | port-cartier\n",
      "Processing Record 16 or Set 8 | bairiki\n",
      "Processing Record 17 or Set 8 | college\n",
      "Processing Record 18 or Set 8 | amazar\n",
      "City not found. Skipping...\n",
      "Processing Record 19 or Set 8 | sanchor\n",
      "Processing Record 20 or Set 8 | sindgi\n",
      "Processing Record 21 or Set 8 | marsa matruh\n",
      "Processing Record 22 or Set 8 | hovd\n",
      "Processing Record 23 or Set 8 | brandon\n",
      "Processing Record 24 or Set 8 | ukiah\n",
      "Processing Record 25 or Set 8 | flinders\n",
      "Processing Record 26 or Set 8 | tommot\n",
      "Processing Record 27 or Set 8 | north bend\n",
      "Processing Record 28 or Set 8 | queimadas\n",
      "Processing Record 29 or Set 8 | iskateley\n"
     ]
    },
    {
     "name": "stdout",
     "output_type": "stream",
     "text": [
      "Processing Record 30 or Set 8 | inhambane\n",
      "Processing Record 31 or Set 8 | las lomas\n",
      "Processing Record 32 or Set 8 | purranque\n",
      "Processing Record 33 or Set 8 | kiama\n",
      "Processing Record 34 or Set 8 | aketi\n",
      "Processing Record 35 or Set 8 | coruripe\n",
      "Processing Record 36 or Set 8 | zhigansk\n",
      "Processing Record 37 or Set 8 | albufeira\n",
      "Processing Record 38 or Set 8 | mago\n",
      "Processing Record 39 or Set 8 | mahibadhoo\n",
      "Processing Record 40 or Set 8 | juneau\n",
      "Processing Record 41 or Set 8 | yar-sale\n",
      "Processing Record 42 or Set 8 | mizdah\n",
      "Processing Record 43 or Set 8 | melville\n",
      "Processing Record 44 or Set 8 | twentynine palms\n",
      "Processing Record 45 or Set 8 | avera\n",
      "Processing Record 46 or Set 8 | puerto del rosario\n",
      "Processing Record 47 or Set 8 | natal\n",
      "Processing Record 48 or Set 8 | puerto princesa\n",
      "Processing Record 49 or Set 8 | ambulu\n",
      "Processing Record 1 or Set 9 | sembakung\n",
      "Processing Record 2 or Set 9 | manavalakurichi\n",
      "Processing Record 3 or Set 9 | bud\n",
      "Processing Record 4 or Set 9 | itum-kale\n",
      "Processing Record 5 or Set 9 | aquidauana\n",
      "Processing Record 6 or Set 9 | yulara\n",
      "Processing Record 7 or Set 9 | gualeguay\n",
      "Processing Record 8 or Set 9 | floro\n",
      "Processing Record 9 or Set 9 | moerai\n",
      "Processing Record 10 or Set 9 | imphal\n",
      "Processing Record 11 or Set 9 | ostrovnoy\n",
      "Processing Record 12 or Set 9 | teguise\n",
      "City not found. Skipping...\n",
      "Processing Record 13 or Set 9 | santa cruz\n",
      "Processing Record 14 or Set 9 | udomlya\n",
      "Processing Record 15 or Set 9 | lima\n",
      "Processing Record 16 or Set 9 | semnan\n",
      "Processing Record 17 or Set 9 | tocache\n",
      "City not found. Skipping...\n",
      "Processing Record 18 or Set 9 | namwala\n",
      "Processing Record 19 or Set 9 | bandundu\n",
      "City not found. Skipping...\n",
      "Processing Record 20 or Set 9 | daru\n",
      "Processing Record 21 or Set 9 | liberal\n",
      "Processing Record 22 or Set 9 | uyuni\n",
      "City not found. Skipping...\n",
      "Processing Record 23 or Set 9 | dicabisagan\n",
      "Processing Record 24 or Set 9 | mecca\n",
      "Processing Record 25 or Set 9 | sisimiut\n",
      "Processing Record 26 or Set 9 | ambon\n",
      "Processing Record 27 or Set 9 | awjilah\n",
      "Processing Record 28 or Set 9 | port lincoln\n",
      "Processing Record 29 or Set 9 | touros\n",
      "Processing Record 30 or Set 9 | ambilobe\n",
      "Processing Record 31 or Set 9 | chara\n",
      "Processing Record 32 or Set 9 | washougal\n",
      "Processing Record 33 or Set 9 | burnie\n",
      "Processing Record 34 or Set 9 | parkes\n",
      "Processing Record 35 or Set 9 | kholm\n",
      "Processing Record 36 or Set 9 | le port\n",
      "Processing Record 37 or Set 9 | najran\n",
      "Processing Record 38 or Set 9 | maykor\n",
      "Processing Record 39 or Set 9 | wagar\n",
      "Processing Record 40 or Set 9 | chicama\n",
      "Processing Record 41 or Set 9 | denpasar\n",
      "Processing Record 42 or Set 9 | prince rupert\n",
      "Processing Record 43 or Set 9 | cabo san lucas\n",
      "Processing Record 44 or Set 9 | tura\n",
      "City not found. Skipping...\n",
      "Processing Record 45 or Set 9 | atasu\n",
      "Processing Record 46 or Set 9 | filingue\n",
      "City not found. Skipping...\n",
      "Processing Record 47 or Set 9 | chulym\n",
      "Processing Record 48 or Set 9 | bucerias\n",
      "Processing Record 49 or Set 9 | kaeo\n",
      "Processing Record 1 or Set 10 | semirom\n",
      "Processing Record 2 or Set 10 | karwar\n",
      "Processing Record 3 or Set 10 | ourossogui\n",
      "Processing Record 4 or Set 10 | larsnes\n",
      "Processing Record 5 or Set 10 | isangel\n",
      "Processing Record 6 or Set 10 | namtsy\n",
      "Processing Record 7 or Set 10 | menongue\n",
      "Processing Record 8 or Set 10 | marystown\n",
      "Processing Record 9 or Set 10 | marawi\n",
      "City not found. Skipping...\n",
      "Processing Record 10 or Set 10 | slavonice\n",
      "Processing Record 11 or Set 10 | qostanay\n",
      "Processing Record 12 or Set 10 | millinocket\n",
      "Processing Record 13 or Set 10 | cascais\n",
      "Processing Record 14 or Set 10 | nyurba\n",
      "Processing Record 15 or Set 10 | kabinda\n",
      "Processing Record 16 or Set 10 | broome\n",
      "Processing Record 17 or Set 10 | barra patuca\n",
      "Processing Record 18 or Set 10 | west wendover\n",
      "Processing Record 19 or Set 10 | matara\n",
      "Processing Record 20 or Set 10 | homer\n",
      "Processing Record 21 or Set 10 | kuusalu\n",
      "Processing Record 22 or Set 10 | okato\n",
      "Processing Record 23 or Set 10 | lebu\n",
      "Processing Record 24 or Set 10 | camargo\n",
      "City not found. Skipping...\n",
      "Processing Record 25 or Set 10 | beringovskiy\n",
      "Processing Record 26 or Set 10 | maarianhamina\n",
      "Processing Record 27 or Set 10 | wuan\n",
      "Processing Record 28 or Set 10 | ramshir\n",
      "Processing Record 29 or Set 10 | radstadt\n",
      "Processing Record 30 or Set 10 | ketchikan\n",
      "Processing Record 31 or Set 10 | sao manuel\n",
      "Processing Record 32 or Set 10 | zhanakorgan\n",
      "Processing Record 33 or Set 10 | east stroudsburg\n",
      "Processing Record 34 or Set 10 | shatsk\n",
      "City not found. Skipping...\n",
      "Processing Record 35 or Set 10 | syracuse\n",
      "Processing Record 36 or Set 10 | makuyuni\n",
      "Processing Record 37 or Set 10 | cantagallo\n",
      "Processing Record 38 or Set 10 | west bay\n",
      "Processing Record 39 or Set 10 | lensk\n",
      "Processing Record 40 or Set 10 | zyryanka\n",
      "Processing Record 41 or Set 10 | gouyave\n",
      "Processing Record 42 or Set 10 | turukhansk\n",
      "Processing Record 43 or Set 10 | yuncheng\n",
      "Processing Record 44 or Set 10 | bantry\n",
      "Processing Record 45 or Set 10 | sambava\n",
      "Processing Record 46 or Set 10 | arlit\n",
      "Processing Record 47 or Set 10 | meadow lake\n",
      "Processing Record 48 or Set 10 | newcastle\n",
      "Processing Record 49 or Set 10 | hualmay\n",
      "Processing Record 1 or Set 11 | santo antonio do leverger\n",
      "Processing Record 2 or Set 11 | hovin\n",
      "Processing Record 3 or Set 11 | kieta\n",
      "Processing Record 4 or Set 11 | fallon\n",
      "Processing Record 5 or Set 11 | venezuela\n",
      "Processing Record 6 or Set 11 | serenje\n",
      "Processing Record 7 or Set 11 | labuhan\n",
      "Processing Record 8 or Set 11 | vestmannaeyjar\n",
      "Processing Record 9 or Set 11 | dubbo\n",
      "City not found. Skipping...\n",
      "Processing Record 10 or Set 11 | ketrzyn\n",
      "Processing Record 11 or Set 11 | dalbandin\n",
      "Processing Record 12 or Set 11 | nakhon phanom\n",
      "Processing Record 13 or Set 11 | salekhard\n",
      "Processing Record 14 or Set 11 | gayeri\n",
      "Processing Record 15 or Set 11 | vasai\n",
      "Processing Record 16 or Set 11 | traverse city\n",
      "Processing Record 17 or Set 11 | sorong\n",
      "Processing Record 18 or Set 11 | yantal\n",
      "Processing Record 19 or Set 11 | kattivakkam\n",
      "Processing Record 20 or Set 11 | alice springs\n",
      "Processing Record 21 or Set 11 | mareeba\n",
      "Processing Record 22 or Set 11 | padang\n",
      "Processing Record 23 or Set 11 | kungurtug\n",
      "Processing Record 24 or Set 11 | mkushi\n",
      "Processing Record 25 or Set 11 | rio grande\n",
      "Processing Record 26 or Set 11 | zaozhuang\n",
      "Processing Record 27 or Set 11 | mikhaylovka\n",
      "Processing Record 28 or Set 11 | calvinia\n",
      "City not found. Skipping...\n",
      "City not found. Skipping...\n",
      "Processing Record 29 or Set 11 | san juan bautista\n",
      "Processing Record 30 or Set 11 | kango\n",
      "Processing Record 31 or Set 11 | maniitsoq\n",
      "Processing Record 32 or Set 11 | abha\n",
      "Processing Record 33 or Set 11 | chumikan\n",
      "Processing Record 34 or Set 11 | cody\n",
      "Processing Record 35 or Set 11 | tessalit\n",
      "Processing Record 36 or Set 11 | rio claro\n",
      "Processing Record 37 or Set 11 | lashio\n",
      "Processing Record 38 or Set 11 | cobija\n",
      "Processing Record 39 or Set 11 | basoko\n",
      "City not found. Skipping...\n",
      "Processing Record 40 or Set 11 | bukachacha\n",
      "Processing Record 41 or Set 11 | kybartai\n",
      "Processing Record 42 or Set 11 | les cayes\n",
      "Processing Record 43 or Set 11 | elko\n",
      "Processing Record 44 or Set 11 | champerico\n",
      "Processing Record 45 or Set 11 | vila velha\n",
      "Processing Record 46 or Set 11 | pascagoula\n",
      "Processing Record 47 or Set 11 | gaozhou\n",
      "Processing Record 48 or Set 11 | kodinsk\n",
      "Processing Record 49 or Set 11 | olinda\n",
      "Processing Record 1 or Set 12 | pangody\n",
      "Processing Record 2 or Set 12 | rafai\n",
      "City not found. Skipping...\n",
      "Processing Record 3 or Set 12 | nortelandia\n",
      "Processing Record 4 or Set 12 | pindobacu\n",
      "Processing Record 5 or Set 12 | qingdao\n",
      "Processing Record 6 or Set 12 | ventspils\n",
      "Processing Record 7 or Set 12 | plettenberg bay\n",
      "Processing Record 8 or Set 12 | soanierana ivongo\n",
      "Processing Record 9 or Set 12 | vera cruz\n",
      "Processing Record 10 or Set 12 | sturgis\n",
      "Processing Record 11 or Set 12 | saint anthony\n",
      "Processing Record 12 or Set 12 | halifax\n",
      "Processing Record 13 or Set 12 | san quintin\n",
      "------------------------------\n",
      "Data Retrieval Complete\n",
      "------------------------------\n"
     ]
    }
   ],
   "source": [
    "url = f\"http://api.openweathermap.org/data/2.5/weather?units=imperial&APPID={weather_api_key}&q=\"\n",
    "\n",
    "units = \"imperial\"\n",
    "\n",
    "City = []\n",
    "Latitude = []\n",
    "Longitude = []\n",
    "Temperature = []\n",
    "Humidity = []\n",
    "Cloudiness = []\n",
    "Windspeed = []\n",
    "Country = []\n",
    "Date = []\n",
    "\n",
    "records = 0\n",
    "sets = 1\n",
    "print('''-----------------\n",
    "Beginning Data Retrieval\n",
    "-------------------------''')\n",
    "for city in cities:\n",
    "    response = requests.get(url + city).json()\n",
    "    try:\n",
    "        Latitude.append(response['coord']['lat'])\n",
    "        Longitude.append(response['coord']['lon'])\n",
    "        Temperature.append(response['main']['temp_max'])\n",
    "        Humidity.append(response['main']['humidity'])\n",
    "        Cloudiness.append(response['clouds']['all'])\n",
    "        Windspeed.append(response['wind']['speed'])\n",
    "        Country.append(response['sys']['country'])\n",
    "        Date.append(response['dt'])\n",
    "        if records > 48:\n",
    "            records = 1\n",
    "            sets += 1\n",
    "            City.append(city)\n",
    "        else:\n",
    "            records += 1\n",
    "            City.append(city)\n",
    "        print(f\"Processing Record {records} or Set {sets} | {city}\")\n",
    "    except:\n",
    "        print(f\"City not found. Skipping...\")\n",
    "print('''--------------------\n",
    "Data Retrieval Complete\n",
    "-------------------------''')\n"
   ]
  },
  {
   "cell_type": "markdown",
   "metadata": {},
   "source": [
    "### Convert Raw Data to DataFrame\n",
    "* Export the city data into a .csv.\n",
    "* Display the DataFrame"
   ]
  },
  {
   "cell_type": "code",
   "execution_count": 5,
   "metadata": {},
   "outputs": [
    {
     "name": "stdout",
     "output_type": "stream",
     "text": [
      "552\n"
     ]
    }
   ],
   "source": [
    "print(len(City))"
   ]
  },
  {
   "cell_type": "code",
   "execution_count": 6,
   "metadata": {},
   "outputs": [
    {
     "data": {
      "text/html": [
       "<div>\n",
       "<style scoped>\n",
       "    .dataframe tbody tr th:only-of-type {\n",
       "        vertical-align: middle;\n",
       "    }\n",
       "\n",
       "    .dataframe tbody tr th {\n",
       "        vertical-align: top;\n",
       "    }\n",
       "\n",
       "    .dataframe thead th {\n",
       "        text-align: right;\n",
       "    }\n",
       "</style>\n",
       "<table border=\"1\" class=\"dataframe\">\n",
       "  <thead>\n",
       "    <tr style=\"text-align: right;\">\n",
       "      <th></th>\n",
       "      <th>City</th>\n",
       "      <th>Lat</th>\n",
       "      <th>Lng</th>\n",
       "      <th>Humidity</th>\n",
       "      <th>Max Temp</th>\n",
       "      <th>Cloudiness</th>\n",
       "      <th>Windspeed</th>\n",
       "      <th>Country</th>\n",
       "      <th>Date</th>\n",
       "    </tr>\n",
       "  </thead>\n",
       "  <tbody>\n",
       "    <tr>\n",
       "      <th>0</th>\n",
       "      <td>cerritos</td>\n",
       "      <td>33.8583</td>\n",
       "      <td>-118.0648</td>\n",
       "      <td>35</td>\n",
       "      <td>80.60</td>\n",
       "      <td>0</td>\n",
       "      <td>6.91</td>\n",
       "      <td>US</td>\n",
       "      <td>1644720607</td>\n",
       "    </tr>\n",
       "    <tr>\n",
       "      <th>1</th>\n",
       "      <td>sitka</td>\n",
       "      <td>57.0531</td>\n",
       "      <td>-135.3300</td>\n",
       "      <td>81</td>\n",
       "      <td>40.89</td>\n",
       "      <td>75</td>\n",
       "      <td>4.61</td>\n",
       "      <td>US</td>\n",
       "      <td>1644720607</td>\n",
       "    </tr>\n",
       "    <tr>\n",
       "      <th>2</th>\n",
       "      <td>hermanus</td>\n",
       "      <td>-34.4187</td>\n",
       "      <td>19.2345</td>\n",
       "      <td>80</td>\n",
       "      <td>66.90</td>\n",
       "      <td>65</td>\n",
       "      <td>3.91</td>\n",
       "      <td>ZA</td>\n",
       "      <td>1644720608</td>\n",
       "    </tr>\n",
       "    <tr>\n",
       "      <th>3</th>\n",
       "      <td>tateyama</td>\n",
       "      <td>34.9833</td>\n",
       "      <td>139.8667</td>\n",
       "      <td>87</td>\n",
       "      <td>46.67</td>\n",
       "      <td>100</td>\n",
       "      <td>3.44</td>\n",
       "      <td>JP</td>\n",
       "      <td>1644720608</td>\n",
       "    </tr>\n",
       "    <tr>\n",
       "      <th>4</th>\n",
       "      <td>kapaa</td>\n",
       "      <td>22.0752</td>\n",
       "      <td>-159.3190</td>\n",
       "      <td>68</td>\n",
       "      <td>79.12</td>\n",
       "      <td>40</td>\n",
       "      <td>13.80</td>\n",
       "      <td>US</td>\n",
       "      <td>1644720608</td>\n",
       "    </tr>\n",
       "  </tbody>\n",
       "</table>\n",
       "</div>"
      ],
      "text/plain": [
       "       City      Lat       Lng  Humidity  Max Temp  Cloudiness  Windspeed  \\\n",
       "0  cerritos  33.8583 -118.0648        35     80.60           0       6.91   \n",
       "1     sitka  57.0531 -135.3300        81     40.89          75       4.61   \n",
       "2  hermanus -34.4187   19.2345        80     66.90          65       3.91   \n",
       "3  tateyama  34.9833  139.8667        87     46.67         100       3.44   \n",
       "4     kapaa  22.0752 -159.3190        68     79.12          40      13.80   \n",
       "\n",
       "  Country        Date  \n",
       "0      US  1644720607  \n",
       "1      US  1644720607  \n",
       "2      ZA  1644720608  \n",
       "3      JP  1644720608  \n",
       "4      US  1644720608  "
      ]
     },
     "execution_count": 6,
     "metadata": {},
     "output_type": "execute_result"
    }
   ],
   "source": [
    "weather_df=({'City':City,'Lat':Latitude,'Lng':Longitude,'Humidity':Humidity,'Max Temp':Temperature,'Cloudiness':Cloudiness,'Windspeed':Windspeed,'Country':Country,'Date':Date})\n",
    "weatherinfo_df=pd.DataFrame(weather_df)\n",
    "weatherinfo_df.head()"
   ]
  },
  {
   "cell_type": "code",
   "execution_count": 7,
   "metadata": {},
   "outputs": [
    {
     "data": {
      "text/html": [
       "<div>\n",
       "<style scoped>\n",
       "    .dataframe tbody tr th:only-of-type {\n",
       "        vertical-align: middle;\n",
       "    }\n",
       "\n",
       "    .dataframe tbody tr th {\n",
       "        vertical-align: top;\n",
       "    }\n",
       "\n",
       "    .dataframe thead th {\n",
       "        text-align: right;\n",
       "    }\n",
       "</style>\n",
       "<table border=\"1\" class=\"dataframe\">\n",
       "  <thead>\n",
       "    <tr style=\"text-align: right;\">\n",
       "      <th></th>\n",
       "      <th>Lat</th>\n",
       "      <th>Lng</th>\n",
       "      <th>Humidity</th>\n",
       "      <th>Max Temp</th>\n",
       "      <th>Cloudiness</th>\n",
       "      <th>Windspeed</th>\n",
       "      <th>Date</th>\n",
       "    </tr>\n",
       "  </thead>\n",
       "  <tbody>\n",
       "    <tr>\n",
       "      <th>count</th>\n",
       "      <td>552.000000</td>\n",
       "      <td>552.000000</td>\n",
       "      <td>552.000000</td>\n",
       "      <td>552.000000</td>\n",
       "      <td>552.000000</td>\n",
       "      <td>552.000000</td>\n",
       "      <td>5.520000e+02</td>\n",
       "    </tr>\n",
       "    <tr>\n",
       "      <th>mean</th>\n",
       "      <td>20.059713</td>\n",
       "      <td>16.208457</td>\n",
       "      <td>73.400362</td>\n",
       "      <td>50.012862</td>\n",
       "      <td>58.581522</td>\n",
       "      <td>7.289239</td>\n",
       "      <td>1.644721e+09</td>\n",
       "    </tr>\n",
       "    <tr>\n",
       "      <th>std</th>\n",
       "      <td>33.356120</td>\n",
       "      <td>90.374884</td>\n",
       "      <td>20.438501</td>\n",
       "      <td>31.204658</td>\n",
       "      <td>40.394253</td>\n",
       "      <td>5.111690</td>\n",
       "      <td>8.765439e+01</td>\n",
       "    </tr>\n",
       "    <tr>\n",
       "      <th>min</th>\n",
       "      <td>-54.800000</td>\n",
       "      <td>-175.200000</td>\n",
       "      <td>10.000000</td>\n",
       "      <td>-32.780000</td>\n",
       "      <td>0.000000</td>\n",
       "      <td>0.000000</td>\n",
       "      <td>1.644720e+09</td>\n",
       "    </tr>\n",
       "    <tr>\n",
       "      <th>25%</th>\n",
       "      <td>-8.622700</td>\n",
       "      <td>-63.794725</td>\n",
       "      <td>65.000000</td>\n",
       "      <td>30.622500</td>\n",
       "      <td>12.750000</td>\n",
       "      <td>3.440000</td>\n",
       "      <td>1.644721e+09</td>\n",
       "    </tr>\n",
       "    <tr>\n",
       "      <th>50%</th>\n",
       "      <td>22.912100</td>\n",
       "      <td>23.067400</td>\n",
       "      <td>77.000000</td>\n",
       "      <td>60.565000</td>\n",
       "      <td>75.000000</td>\n",
       "      <td>5.970000</td>\n",
       "      <td>1.644721e+09</td>\n",
       "    </tr>\n",
       "    <tr>\n",
       "      <th>75%</th>\n",
       "      <td>48.719375</td>\n",
       "      <td>93.575000</td>\n",
       "      <td>89.000000</td>\n",
       "      <td>75.467500</td>\n",
       "      <td>100.000000</td>\n",
       "      <td>10.360000</td>\n",
       "      <td>1.644721e+09</td>\n",
       "    </tr>\n",
       "    <tr>\n",
       "      <th>max</th>\n",
       "      <td>78.218600</td>\n",
       "      <td>179.316700</td>\n",
       "      <td>100.000000</td>\n",
       "      <td>97.830000</td>\n",
       "      <td>100.000000</td>\n",
       "      <td>36.130000</td>\n",
       "      <td>1.644721e+09</td>\n",
       "    </tr>\n",
       "  </tbody>\n",
       "</table>\n",
       "</div>"
      ],
      "text/plain": [
       "              Lat         Lng    Humidity    Max Temp  Cloudiness   Windspeed  \\\n",
       "count  552.000000  552.000000  552.000000  552.000000  552.000000  552.000000   \n",
       "mean    20.059713   16.208457   73.400362   50.012862   58.581522    7.289239   \n",
       "std     33.356120   90.374884   20.438501   31.204658   40.394253    5.111690   \n",
       "min    -54.800000 -175.200000   10.000000  -32.780000    0.000000    0.000000   \n",
       "25%     -8.622700  -63.794725   65.000000   30.622500   12.750000    3.440000   \n",
       "50%     22.912100   23.067400   77.000000   60.565000   75.000000    5.970000   \n",
       "75%     48.719375   93.575000   89.000000   75.467500  100.000000   10.360000   \n",
       "max     78.218600  179.316700  100.000000   97.830000  100.000000   36.130000   \n",
       "\n",
       "               Date  \n",
       "count  5.520000e+02  \n",
       "mean   1.644721e+09  \n",
       "std    8.765439e+01  \n",
       "min    1.644720e+09  \n",
       "25%    1.644721e+09  \n",
       "50%    1.644721e+09  \n",
       "75%    1.644721e+09  \n",
       "max    1.644721e+09  "
      ]
     },
     "execution_count": 7,
     "metadata": {},
     "output_type": "execute_result"
    }
   ],
   "source": [
    "weatherinfo_df.describe()"
   ]
  },
  {
   "cell_type": "markdown",
   "metadata": {},
   "source": [
    "## Inspect the data and remove the cities where the humidity > 100%.\n",
    "----\n",
    "Skip this step if there are no cities that have humidity > 100%. "
   ]
  },
  {
   "cell_type": "code",
   "execution_count": 6,
   "metadata": {},
   "outputs": [
    {
     "data": {
      "text/html": [
       "<div>\n",
       "<style scoped>\n",
       "    .dataframe tbody tr th:only-of-type {\n",
       "        vertical-align: middle;\n",
       "    }\n",
       "\n",
       "    .dataframe tbody tr th {\n",
       "        vertical-align: top;\n",
       "    }\n",
       "\n",
       "    .dataframe thead th {\n",
       "        text-align: right;\n",
       "    }\n",
       "</style>\n",
       "<table border=\"1\" class=\"dataframe\">\n",
       "  <thead>\n",
       "    <tr style=\"text-align: right;\">\n",
       "      <th></th>\n",
       "      <th>Lat</th>\n",
       "      <th>Lng</th>\n",
       "      <th>Max Temp</th>\n",
       "      <th>Humidity</th>\n",
       "      <th>Cloudiness</th>\n",
       "      <th>Wind Speed</th>\n",
       "      <th>Date</th>\n",
       "    </tr>\n",
       "  </thead>\n",
       "  <tbody>\n",
       "    <tr>\n",
       "      <th>count</th>\n",
       "      <td>550.000000</td>\n",
       "      <td>550.000000</td>\n",
       "      <td>550.000000</td>\n",
       "      <td>550.000000</td>\n",
       "      <td>550.000000</td>\n",
       "      <td>550.000000</td>\n",
       "      <td>5.500000e+02</td>\n",
       "    </tr>\n",
       "    <tr>\n",
       "      <th>mean</th>\n",
       "      <td>19.973545</td>\n",
       "      <td>17.124400</td>\n",
       "      <td>58.331400</td>\n",
       "      <td>67.890909</td>\n",
       "      <td>52.141818</td>\n",
       "      <td>8.544800</td>\n",
       "      <td>1.585764e+09</td>\n",
       "    </tr>\n",
       "    <tr>\n",
       "      <th>std</th>\n",
       "      <td>33.284840</td>\n",
       "      <td>91.595451</td>\n",
       "      <td>25.795297</td>\n",
       "      <td>20.864881</td>\n",
       "      <td>35.766469</td>\n",
       "      <td>6.078869</td>\n",
       "      <td>5.539674e+01</td>\n",
       "    </tr>\n",
       "    <tr>\n",
       "      <th>min</th>\n",
       "      <td>-54.800000</td>\n",
       "      <td>-179.170000</td>\n",
       "      <td>-11.340000</td>\n",
       "      <td>9.000000</td>\n",
       "      <td>0.000000</td>\n",
       "      <td>0.160000</td>\n",
       "      <td>1.585764e+09</td>\n",
       "    </tr>\n",
       "    <tr>\n",
       "      <th>25%</th>\n",
       "      <td>-8.077500</td>\n",
       "      <td>-64.627500</td>\n",
       "      <td>42.800000</td>\n",
       "      <td>55.000000</td>\n",
       "      <td>20.000000</td>\n",
       "      <td>4.525000</td>\n",
       "      <td>1.585764e+09</td>\n",
       "    </tr>\n",
       "    <tr>\n",
       "      <th>50%</th>\n",
       "      <td>23.630000</td>\n",
       "      <td>19.635000</td>\n",
       "      <td>64.940000</td>\n",
       "      <td>72.000000</td>\n",
       "      <td>57.000000</td>\n",
       "      <td>7.325000</td>\n",
       "      <td>1.585764e+09</td>\n",
       "    </tr>\n",
       "    <tr>\n",
       "      <th>75%</th>\n",
       "      <td>48.672500</td>\n",
       "      <td>97.350000</td>\n",
       "      <td>78.800000</td>\n",
       "      <td>83.000000</td>\n",
       "      <td>86.750000</td>\n",
       "      <td>11.410000</td>\n",
       "      <td>1.585764e+09</td>\n",
       "    </tr>\n",
       "    <tr>\n",
       "      <th>max</th>\n",
       "      <td>78.220000</td>\n",
       "      <td>179.320000</td>\n",
       "      <td>102.200000</td>\n",
       "      <td>100.000000</td>\n",
       "      <td>100.000000</td>\n",
       "      <td>46.080000</td>\n",
       "      <td>1.585764e+09</td>\n",
       "    </tr>\n",
       "  </tbody>\n",
       "</table>\n",
       "</div>"
      ],
      "text/plain": [
       "              Lat         Lng    Max Temp    Humidity  Cloudiness  Wind Speed  \\\n",
       "count  550.000000  550.000000  550.000000  550.000000  550.000000  550.000000   \n",
       "mean    19.973545   17.124400   58.331400   67.890909   52.141818    8.544800   \n",
       "std     33.284840   91.595451   25.795297   20.864881   35.766469    6.078869   \n",
       "min    -54.800000 -179.170000  -11.340000    9.000000    0.000000    0.160000   \n",
       "25%     -8.077500  -64.627500   42.800000   55.000000   20.000000    4.525000   \n",
       "50%     23.630000   19.635000   64.940000   72.000000   57.000000    7.325000   \n",
       "75%     48.672500   97.350000   78.800000   83.000000   86.750000   11.410000   \n",
       "max     78.220000  179.320000  102.200000  100.000000  100.000000   46.080000   \n",
       "\n",
       "               Date  \n",
       "count  5.500000e+02  \n",
       "mean   1.585764e+09  \n",
       "std    5.539674e+01  \n",
       "min    1.585764e+09  \n",
       "25%    1.585764e+09  \n",
       "50%    1.585764e+09  \n",
       "75%    1.585764e+09  \n",
       "max    1.585764e+09  "
      ]
     },
     "execution_count": 6,
     "metadata": {},
     "output_type": "execute_result"
    }
   ],
   "source": []
  },
  {
   "cell_type": "code",
   "execution_count": 17,
   "metadata": {},
   "outputs": [
    {
     "data": {
      "text/plain": [
       "Int64Index([], dtype='int64')"
      ]
     },
     "execution_count": 17,
     "metadata": {},
     "output_type": "execute_result"
    }
   ],
   "source": [
    "#  Get the indices of cities that have humidity over 100%.\n"
   ]
  },
  {
   "cell_type": "code",
   "execution_count": 19,
   "metadata": {},
   "outputs": [
    {
     "data": {
      "text/html": [
       "<div>\n",
       "<style scoped>\n",
       "    .dataframe tbody tr th:only-of-type {\n",
       "        vertical-align: middle;\n",
       "    }\n",
       "\n",
       "    .dataframe tbody tr th {\n",
       "        vertical-align: top;\n",
       "    }\n",
       "\n",
       "    .dataframe thead th {\n",
       "        text-align: right;\n",
       "    }\n",
       "</style>\n",
       "<table border=\"1\" class=\"dataframe\">\n",
       "  <thead>\n",
       "    <tr style=\"text-align: right;\">\n",
       "      <th></th>\n",
       "      <th>City</th>\n",
       "      <th>Lat</th>\n",
       "      <th>Lng</th>\n",
       "      <th>Max Temp</th>\n",
       "      <th>Humidity</th>\n",
       "      <th>Cloudiness</th>\n",
       "      <th>Wind Speed</th>\n",
       "      <th>Country</th>\n",
       "      <th>Date</th>\n",
       "    </tr>\n",
       "  </thead>\n",
       "  <tbody>\n",
       "    <tr>\n",
       "      <td>0</td>\n",
       "      <td>butaritari</td>\n",
       "      <td>3.07</td>\n",
       "      <td>172.79</td>\n",
       "      <td>83.32</td>\n",
       "      <td>74</td>\n",
       "      <td>84</td>\n",
       "      <td>10.42</td>\n",
       "      <td>KI</td>\n",
       "      <td>1593605283</td>\n",
       "    </tr>\n",
       "    <tr>\n",
       "      <td>1</td>\n",
       "      <td>yerbogachen</td>\n",
       "      <td>61.28</td>\n",
       "      <td>108.01</td>\n",
       "      <td>79.52</td>\n",
       "      <td>58</td>\n",
       "      <td>20</td>\n",
       "      <td>7.70</td>\n",
       "      <td>RU</td>\n",
       "      <td>1593605121</td>\n",
       "    </tr>\n",
       "    <tr>\n",
       "      <td>2</td>\n",
       "      <td>cape town</td>\n",
       "      <td>-33.93</td>\n",
       "      <td>18.42</td>\n",
       "      <td>73.00</td>\n",
       "      <td>77</td>\n",
       "      <td>27</td>\n",
       "      <td>4.70</td>\n",
       "      <td>ZA</td>\n",
       "      <td>1593605039</td>\n",
       "    </tr>\n",
       "    <tr>\n",
       "      <td>3</td>\n",
       "      <td>touba</td>\n",
       "      <td>8.28</td>\n",
       "      <td>-7.68</td>\n",
       "      <td>79.97</td>\n",
       "      <td>75</td>\n",
       "      <td>82</td>\n",
       "      <td>3.58</td>\n",
       "      <td>CI</td>\n",
       "      <td>1593605284</td>\n",
       "    </tr>\n",
       "    <tr>\n",
       "      <td>4</td>\n",
       "      <td>jamestown</td>\n",
       "      <td>42.10</td>\n",
       "      <td>-79.24</td>\n",
       "      <td>64.00</td>\n",
       "      <td>88</td>\n",
       "      <td>1</td>\n",
       "      <td>6.93</td>\n",
       "      <td>US</td>\n",
       "      <td>1593605284</td>\n",
       "    </tr>\n",
       "  </tbody>\n",
       "</table>\n",
       "</div>"
      ],
      "text/plain": [
       "          City    Lat     Lng  Max Temp  Humidity  Cloudiness  Wind Speed  \\\n",
       "0   butaritari   3.07  172.79     83.32        74          84       10.42   \n",
       "1  yerbogachen  61.28  108.01     79.52        58          20        7.70   \n",
       "2    cape town -33.93   18.42     73.00        77          27        4.70   \n",
       "3        touba   8.28   -7.68     79.97        75          82        3.58   \n",
       "4    jamestown  42.10  -79.24     64.00        88           1        6.93   \n",
       "\n",
       "  Country        Date  \n",
       "0      KI  1593605283  \n",
       "1      RU  1593605121  \n",
       "2      ZA  1593605039  \n",
       "3      CI  1593605284  \n",
       "4      US  1593605284  "
      ]
     },
     "execution_count": 19,
     "metadata": {},
     "output_type": "execute_result"
    }
   ],
   "source": [
    "# Make a new DataFrame equal to the city data to drop all humidity outliers by index.\n",
    "# Passing \"inplace=False\" will make a copy of the city_data DataFrame, which we call \"clean_city_data\".\n"
   ]
  },
  {
   "cell_type": "code",
   "execution_count": null,
   "metadata": {},
   "outputs": [],
   "source": [
    "\n"
   ]
  },
  {
   "cell_type": "markdown",
   "metadata": {},
   "source": [
    "## Plotting the Data\n",
    "* Use proper labeling of the plots using plot titles (including date of analysis) and axes labels.\n",
    "* Save the plotted figures as .pngs."
   ]
  },
  {
   "cell_type": "markdown",
   "metadata": {},
   "source": [
    "## Latitude vs. Temperature Plot"
   ]
  },
  {
   "cell_type": "code",
   "execution_count": 8,
   "metadata": {
    "scrolled": true
   },
   "outputs": [
    {
     "data": {
      "image/png": "[encoded data removed]",
      "text/plain": [
       "<Figure size 432x288 with 1 Axes>"
      ]
     },
     "metadata": {
      "needs_background": "light"
     },
     "output_type": "display_data"
    }
   ],
   "source": [
    "plt.scatter(weatherinfo_df[\"Lat\"], weatherinfo_df[\"Max Temp\"], marker=\"o\")\n",
    "\n",
    "plt.title(f'City Latitude vs. Max Temperature')\n",
    "plt.ylabel(\"Temperature (F)\")\n",
    "plt.xlabel(\"Latitude\")\n",
    "\n",
    "plt.savefig(\"../output_data/lat_temp.png\", dpi=100, facecolor='w')\n",
    "\n",
    "plt.show()"
   ]
  },
  {
   "cell_type": "code",
   "execution_count": null,
   "metadata": {},
   "outputs": [],
   "source": [
    "# The lower the lat the warmer the weather, the higher the lat the colder the weather. The most optimal weather conditions are in the middle. "
   ]
  },
  {
   "cell_type": "markdown",
   "metadata": {},
   "source": [
    "## Latitude vs. Humidity Plot"
   ]
  },
  {
   "cell_type": "code",
   "execution_count": 9,
   "metadata": {},
   "outputs": [
    {
     "data": {
      "image/png": "[encoded data removed]",
      "text/plain": [
       "<Figure size 432x288 with 1 Axes>"
      ]
     },
     "metadata": {
      "needs_background": "light"
     },
     "output_type": "display_data"
    }
   ],
   "source": [
    "plt.scatter(weatherinfo_df[\"Lat\"], weatherinfo_df[\"Humidity\"], marker=\"o\")\n",
    "\n",
    "plt.title(f\"Latitude vs. Humidity 04/01/20')\n",
    "plt.ylabel(\"Temperature (F)\")\n",
    "plt.xlabel(\"Latitude\")\n",
    "\n",
    "plt.savefig(\"../output_data/lat_humidity.png\", dpi=100, facecolor='w')\n",
    "\n",
    "plt.show()"
   ]
  },
  {
   "cell_type": "code",
   "execution_count": null,
   "metadata": {},
   "outputs": [],
   "source": [
    "#There is no relationship between city lat and humidity"
   ]
  },
  {
   "cell_type": "markdown",
   "metadata": {},
   "source": [
    "## Latitude vs. Cloudiness Plot"
   ]
  },
  {
   "cell_type": "code",
   "execution_count": 10,
   "metadata": {},
   "outputs": [
    {
     "data": {
      "image/png": "[encoded data removed]",
      "text/plain": [
       "<Figure size 432x288 with 1 Axes>"
      ]
     },
     "metadata": {
      "needs_background": "light"
     },
     "output_type": "display_data"
    }
   ],
   "source": [
    "plt.scatter(weatherinfo_df[\"Lat\"], weatherinfo_df[\"Cloudiness\"], marker=\"o\")\n",
    "\n",
    "plt.title(f'City Latitude vs. Cloudiness 04/01/20')\n",
    "plt.ylabel(\"Temperature (F)\")\n",
    "plt.xlabel(\"Latitude\")\n",
    "\n",
    "plt.savefig(\"../output_data/lat_cloudiness.png\", dpi=100, facecolor='w')\n",
    "\n",
    "plt.show()"
   ]
  },
  {
   "cell_type": "code",
   "execution_count": null,
   "metadata": {},
   "outputs": [],
   "source": [
    "#There is no correlation between city lat and cloudiness"
   ]
  },
  {
   "cell_type": "markdown",
   "metadata": {},
   "source": [
    "## Latitude vs. Wind Speed Plot"
   ]
  },
  {
   "cell_type": "code",
   "execution_count": 11,
   "metadata": {},
   "outputs": [
    {
     "data": {
      "image/png": "[encoded data removed]",
      "text/plain": [
       "<Figure size 432x288 with 1 Axes>"
      ]
     },
     "metadata": {
      "needs_background": "light"
     },
     "output_type": "display_data"
    }
   ],
   "source": [
    "plt.scatter(weatherinfo_df[\"Lat\"], weatherinfo_df[\"Windspeed\"], marker=\"o\")\n",
    "\n",
    "plt.title(f'City Latitude vs. Windspeed 04/01/20')\n",
    "plt.ylabel(\"Temperature (F)\")\n",
    "plt.xlabel(\"Latitude\")\n",
    "\n",
    "plt.savefig(\"../output_data/lat_windspeed.png\", dpi=100, facecolor='w')\n",
    "\n",
    "plt.show()"
   ]
  },
  {
   "cell_type": "code",
   "execution_count": null,
   "metadata": {},
   "outputs": [],
   "source": [
    "#The windspeed in most cities is under 25 miles per hour"
   ]
  },
  {
   "cell_type": "markdown",
   "metadata": {},
   "source": [
    "## Linear Regression"
   ]
  },
  {
   "cell_type": "code",
   "execution_count": 62,
   "metadata": {},
   "outputs": [
    {
     "data": {
      "text/html": [
       "<div>\n",
       "<style scoped>\n",
       "    .dataframe tbody tr th:only-of-type {\n",
       "        vertical-align: middle;\n",
       "    }\n",
       "\n",
       "    .dataframe tbody tr th {\n",
       "        vertical-align: top;\n",
       "    }\n",
       "\n",
       "    .dataframe thead th {\n",
       "        text-align: right;\n",
       "    }\n",
       "</style>\n",
       "<table border=\"1\" class=\"dataframe\">\n",
       "  <thead>\n",
       "    <tr style=\"text-align: right;\">\n",
       "      <th></th>\n",
       "      <th>City</th>\n",
       "      <th>Lat</th>\n",
       "      <th>Lng</th>\n",
       "      <th>Humidity</th>\n",
       "      <th>Max Temp</th>\n",
       "      <th>Cloudiness</th>\n",
       "      <th>Windspeed</th>\n",
       "      <th>Country</th>\n",
       "      <th>Date</th>\n",
       "    </tr>\n",
       "  </thead>\n",
       "  <tbody>\n",
       "    <tr>\n",
       "      <th>2</th>\n",
       "      <td>hermanus</td>\n",
       "      <td>-34.4187</td>\n",
       "      <td>19.2345</td>\n",
       "      <td>80</td>\n",
       "      <td>66.90</td>\n",
       "      <td>65</td>\n",
       "      <td>3.91</td>\n",
       "      <td>ZA</td>\n",
       "      <td>1644720608</td>\n",
       "    </tr>\n",
       "    <tr>\n",
       "      <th>8</th>\n",
       "      <td>rikitea</td>\n",
       "      <td>-23.1203</td>\n",
       "      <td>-134.9692</td>\n",
       "      <td>68</td>\n",
       "      <td>79.52</td>\n",
       "      <td>0</td>\n",
       "      <td>17.29</td>\n",
       "      <td>PF</td>\n",
       "      <td>1644720609</td>\n",
       "    </tr>\n",
       "    <tr>\n",
       "      <th>10</th>\n",
       "      <td>buenos aires</td>\n",
       "      <td>-34.6132</td>\n",
       "      <td>-58.3772</td>\n",
       "      <td>50</td>\n",
       "      <td>64.13</td>\n",
       "      <td>0</td>\n",
       "      <td>10.36</td>\n",
       "      <td>AR</td>\n",
       "      <td>1644720446</td>\n",
       "    </tr>\n",
       "    <tr>\n",
       "      <th>11</th>\n",
       "      <td>itamarandiba</td>\n",
       "      <td>-17.8572</td>\n",
       "      <td>-42.8589</td>\n",
       "      <td>99</td>\n",
       "      <td>62.73</td>\n",
       "      <td>100</td>\n",
       "      <td>2.82</td>\n",
       "      <td>BR</td>\n",
       "      <td>1644720610</td>\n",
       "    </tr>\n",
       "    <tr>\n",
       "      <th>12</th>\n",
       "      <td>punta arenas</td>\n",
       "      <td>-53.1500</td>\n",
       "      <td>-70.9167</td>\n",
       "      <td>76</td>\n",
       "      <td>48.31</td>\n",
       "      <td>0</td>\n",
       "      <td>5.75</td>\n",
       "      <td>CL</td>\n",
       "      <td>1644720577</td>\n",
       "    </tr>\n",
       "  </tbody>\n",
       "</table>\n",
       "</div>"
      ],
      "text/plain": [
       "            City      Lat       Lng  Humidity  Max Temp  Cloudiness  \\\n",
       "2       hermanus -34.4187   19.2345        80     66.90          65   \n",
       "8        rikitea -23.1203 -134.9692        68     79.52           0   \n",
       "10  buenos aires -34.6132  -58.3772        50     64.13           0   \n",
       "11  itamarandiba -17.8572  -42.8589        99     62.73         100   \n",
       "12  punta arenas -53.1500  -70.9167        76     48.31           0   \n",
       "\n",
       "    Windspeed Country        Date  \n",
       "2        3.91      ZA  1644720608  \n",
       "8       17.29      PF  1644720609  \n",
       "10      10.36      AR  1644720446  \n",
       "11       2.82      BR  1644720610  \n",
       "12       5.75      CL  1644720577  "
      ]
     },
     "execution_count": 62,
     "metadata": {},
     "output_type": "execute_result"
    }
   ],
   "source": [
    "north_df = weatherinfo_df.loc[weatherinfo_df[\"Lat\"] >= 0 , :]\n",
    "south_df = weatherinfo_df.loc[weatherinfo_df[\"Lat\"] < 0 , :]\n",
    "\n",
    "south_df.head()"
   ]
  },
  {
   "cell_type": "markdown",
   "metadata": {},
   "source": [
    "####  Northern Hemisphere - Max Temp vs. Latitude Linear Regression"
   ]
  },
  {
   "cell_type": "code",
   "execution_count": 53,
   "metadata": {},
   "outputs": [
    {
     "data": {
      "image/png": "[encoded data removed]",
      "text/plain": [
       "<Figure size 432x288 with 1 Axes>"
      ]
     },
     "metadata": {
      "needs_background": "light"
     },
     "output_type": "display_data"
    },
    {
     "name": "stdout",
     "output_type": "stream",
     "text": [
      "The -value is: -0.8747669270393688\n"
     ]
    }
   ],
   "source": [
    "x_values = north_df['Lat']\n",
    "y_values = north_df['Max Temp']\n",
    "(slope, intercept, rvalue, pvalue, stderr) = linregress(x_values, y_values)\n",
    "regress_values = x_values * slope + intercept\n",
    "line_eq = \"y = \" + str(round(slope,3)) + \"x + \" + str(round(intercept,3))\n",
    "plt.scatter(x_values,y_values)\n",
    "plt.plot(x_values,regress_values,\"r-\")\n",
    "plt.annotate(line_eq,(1.5,8),fontsize=15,color=\"red\")\n",
    "plt.xlabel('Lat')\n",
    "plt.ylabel('Max Temp')\n",
    "plt.savefig(\"../output_data/ntemp_lat.png\", dpi=100, facecolor='w')\n",
    "plt.show()\n",
    "print(f\"The -value is: {rvalue}\")"
   ]
  },
  {
   "cell_type": "markdown",
   "metadata": {},
   "source": [
    "####  Southern Hemisphere - Max Temp vs. Latitude Linear Regression"
   ]
  },
  {
   "cell_type": "code",
   "execution_count": 64,
   "metadata": {},
   "outputs": [
    {
     "data": {
      "image/png": "[encoded data removed]",
      "text/plain": [
       "<Figure size 432x288 with 1 Axes>"
      ]
     },
     "metadata": {
      "needs_background": "light"
     },
     "output_type": "display_data"
    },
    {
     "name": "stdout",
     "output_type": "stream",
     "text": [
      "The -value is: 0.370245623327545\n"
     ]
    }
   ],
   "source": [
    "x_values = south_df['Lat']\n",
    "y_values = south_df['Max Temp']\n",
    "(slope, intercept, rvalue, pvalue, stderr) = linregress(x_values, y_values)\n",
    "regress_values = x_values * slope + intercept\n",
    "line_eq = \"y = \" + str(round(slope,3)) + \"x + \" + str(round(intercept,3))\n",
    "plt.scatter(x_values,y_values)\n",
    "plt.plot(x_values,regress_values,\"r-\")\n",
    "plt.annotate(line_eq,(1.5,8),fontsize=15,color=\"red\")\n",
    "plt.xlabel('Lat')\n",
    "plt.ylabel('Max Temp')\n",
    "plt.savefig(\"../output_data/stemp_lat.png\", dpi=100, facecolor='w')\n",
    "plt.show()\n",
    "print(f\"The -value is: {rvalue}\")"
   ]
  },
  {
   "cell_type": "code",
   "execution_count": null,
   "metadata": {},
   "outputs": [],
   "source": [
    "#The temp decreases as the latitude increases while the temp inscreases as the latitdue gets closer to 0"
   ]
  },
  {
   "cell_type": "markdown",
   "metadata": {},
   "source": [
    "####  Northern Hemisphere - Humidity (%) vs. Latitude Linear Regression"
   ]
  },
  {
   "cell_type": "code",
   "execution_count": 65,
   "metadata": {},
   "outputs": [
    {
     "data": {
      "image/png": "[encoded data removed]",
      "text/plain": [
       "<Figure size 432x288 with 1 Axes>"
      ]
     },
     "metadata": {
      "needs_background": "light"
     },
     "output_type": "display_data"
    },
    {
     "name": "stdout",
     "output_type": "stream",
     "text": [
      "The -value is: 0.4447622149429276\n"
     ]
    }
   ],
   "source": [
    "x_values = north_df['Lat']\n",
    "y_values = north_df['Humidity']\n",
    "(slope, intercept, rvalue, pvalue, stderr) = linregress(x_values, y_values)\n",
    "regress_values = x_values * slope + intercept\n",
    "line_eq = \"y = \" + str(round(slope,3)) + \"x + \" + str(round(intercept,3))\n",
    "plt.scatter(x_values,y_values)\n",
    "plt.plot(x_values,regress_values,\"r-\")\n",
    "plt.annotate(line_eq,(6,10),fontsize=15,color=\"red\")\n",
    "plt.xlabel('Lat')\n",
    "plt.ylabel('Humidty')\n",
    "plt.savefig(\"../output_data/nhumidity_lat.png\", dpi=100, facecolor='w')\n",
    "plt.show()\n",
    "print(f\"The -value is: {rvalue}\")"
   ]
  },
  {
   "cell_type": "markdown",
   "metadata": {},
   "source": [
    "####  Southern Hemisphere - Humidity (%) vs. Latitude Linear Regression"
   ]
  },
  {
   "cell_type": "code",
   "execution_count": 66,
   "metadata": {},
   "outputs": [
    {
     "data": {
      "image/png": "[encoded data removed]",
      "text/plain": [
       "<Figure size 432x288 with 1 Axes>"
      ]
     },
     "metadata": {
      "needs_background": "light"
     },
     "output_type": "display_data"
    },
    {
     "name": "stdout",
     "output_type": "stream",
     "text": [
      "The -value is: 0.3356111498902033\n"
     ]
    }
   ],
   "source": [
    "x_values = south_df['Lat']\n",
    "y_values = south_df['Humidity']\n",
    "(slope, intercept, rvalue, pvalue, stderr) = linregress(x_values, y_values)\n",
    "regress_values = x_values * slope + intercept\n",
    "line_eq = \"y = \" + str(round(slope,3)) + \"x + \" + str(round(intercept,3))\n",
    "plt.scatter(x_values,y_values)\n",
    "plt.plot(x_values,regress_values,\"r-\")\n",
    "plt.annotate(line_eq,(6,10),fontsize=15,color=\"red\")\n",
    "plt.xlabel('Lat')\n",
    "plt.ylabel('Humidty')\n",
    "plt.savefig(\"../output_data/shumidity_lat.png\", dpi=100, facecolor='w')\n",
    "plt.show()\n",
    "print(f\"The -value is: {rvalue}\")"
   ]
  },
  {
   "cell_type": "code",
   "execution_count": null,
   "metadata": {},
   "outputs": [],
   "source": [
    "#Humidity is slightly affected as the lat increases"
   ]
  },
  {
   "cell_type": "markdown",
   "metadata": {},
   "source": [
    "####  Northern Hemisphere - Cloudiness (%) vs. Latitude Linear Regression"
   ]
  },
  {
   "cell_type": "code",
   "execution_count": 67,
   "metadata": {},
   "outputs": [
    {
     "data": {
      "image/png": "[encoded data removed]",
      "text/plain": [
       "<Figure size 432x288 with 1 Axes>"
      ]
     },
     "metadata": {
      "needs_background": "light"
     },
     "output_type": "display_data"
    },
    {
     "name": "stdout",
     "output_type": "stream",
     "text": [
      "The -value is: 0.13999718690973206\n"
     ]
    }
   ],
   "source": [
    "x_values = north_df['Lat']\n",
    "y_values = north_df['Cloudiness']\n",
    "(slope, intercept, rvalue, pvalue, stderr) = linregress(x_values, y_values)\n",
    "regress_values = x_values * slope + intercept\n",
    "line_eq = \"y = \" + str(round(slope,3)) + \"x + \" + str(round(intercept,3))\n",
    "plt.scatter(x_values,y_values)\n",
    "plt.plot(x_values,regress_values,\"r-\")\n",
    "plt.annotate(line_eq,(6,10),fontsize=15,color=\"red\")\n",
    "plt.xlabel('Lat')\n",
    "plt.ylabel('Cloudiness')\n",
    "plt.savefig(\"../output_data/ncloud_lat.png\", dpi=100, facecolor='w')\n",
    "plt.show()\n",
    "print(f\"The -value is: {rvalue}\")"
   ]
  },
  {
   "cell_type": "markdown",
   "metadata": {},
   "source": [
    "####  Southern Hemisphere - Cloudiness (%) vs. Latitude Linear Regression"
   ]
  },
  {
   "cell_type": "code",
   "execution_count": 68,
   "metadata": {},
   "outputs": [
    {
     "data": {
      "image/png": "[encoded data removed]",
      "text/plain": [
       "<Figure size 432x288 with 1 Axes>"
      ]
     },
     "metadata": {
      "needs_background": "light"
     },
     "output_type": "display_data"
    },
    {
     "name": "stdout",
     "output_type": "stream",
     "text": [
      "The -value is: 0.20409513389137773\n"
     ]
    }
   ],
   "source": [
    "x_values = south_df['Lat']\n",
    "y_values = south_df['Cloudiness']\n",
    "(slope, intercept, rvalue, pvalue, stderr) = linregress(x_values, y_values)\n",
    "regress_values = x_values * slope + intercept\n",
    "line_eq = \"y = \" + str(round(slope,3)) + \"x + \" + str(round(intercept,3))\n",
    "plt.scatter(x_values,y_values)\n",
    "plt.plot(x_values,regress_values,\"r-\")\n",
    "plt.annotate(line_eq,(6,10),fontsize=15,color=\"red\")\n",
    "plt.xlabel('Lat')\n",
    "plt.ylabel('Cloudiness')\n",
    "plt.savefig(\"../output_data/ncloud_lat.png\", dpi=100, facecolor='w')\n",
    "plt.show()\n",
    "print(f\"The -value is: {rvalue}\")"
   ]
  },
  {
   "cell_type": "code",
   "execution_count": null,
   "metadata": {},
   "outputs": [],
   "source": [
    "#As the lat increses there is a slight increase in cloudiness"
   ]
  },
  {
   "cell_type": "markdown",
   "metadata": {},
   "source": [
    "####  Northern Hemisphere - Wind Speed (mph) vs. Latitude Linear Regression"
   ]
  },
  {
   "cell_type": "code",
   "execution_count": 69,
   "metadata": {},
   "outputs": [
    {
     "data": {
      "image/png": "[encoded data removed]",
      "text/plain": [
       "<Figure size 432x288 with 1 Axes>"
      ]
     },
     "metadata": {
      "needs_background": "light"
     },
     "output_type": "display_data"
    },
    {
     "name": "stdout",
     "output_type": "stream",
     "text": [
      "The -value is: 0.09356864082822809\n"
     ]
    }
   ],
   "source": [
    "x_values = north_df['Lat']\n",
    "y_values = north_df['Windspeed']\n",
    "(slope, intercept, rvalue, pvalue, stderr) = linregress(x_values, y_values)\n",
    "regress_values = x_values * slope + intercept\n",
    "line_eq = \"y = \" + str(round(slope,3)) + \"x + \" + str(round(intercept,3))\n",
    "plt.scatter(x_values,y_values)\n",
    "plt.plot(x_values,regress_values,\"r-\")\n",
    "plt.annotate(line_eq,(6,10),fontsize=15,color=\"red\")\n",
    "plt.xlabel('Lat')\n",
    "plt.ylabel('Windspeed')\n",
    "plt.savefig(\"../output_data/nwind_lat.png\", dpi=100, facecolor='w')\n",
    "plt.show()\n",
    "print(f\"The -value is: {rvalue}\")"
   ]
  },
  {
   "cell_type": "markdown",
   "metadata": {},
   "source": [
    "####  Southern Hemisphere - Wind Speed (mph) vs. Latitude Linear Regression"
   ]
  },
  {
   "cell_type": "code",
   "execution_count": 70,
   "metadata": {},
   "outputs": [
    {
     "data": {
      "image/png": "[encoded data removed]",
      "text/plain": [
       "<Figure size 432x288 with 1 Axes>"
      ]
     },
     "metadata": {
      "needs_background": "light"
     },
     "output_type": "display_data"
    },
    {
     "name": "stdout",
     "output_type": "stream",
     "text": [
      "The -value is: -0.4105874063913686\n"
     ]
    }
   ],
   "source": [
    "x_values = south_df['Lat']\n",
    "y_values = south_df['Windspeed']\n",
    "(slope, intercept, rvalue, pvalue, stderr) = linregress(x_values, y_values)\n",
    "regress_values = x_values * slope + intercept\n",
    "line_eq = \"y = \" + str(round(slope,3)) + \"x + \" + str(round(intercept,3))\n",
    "plt.scatter(x_values,y_values)\n",
    "plt.plot(x_values,regress_values,\"r-\")\n",
    "plt.annotate(line_eq,(6,10),fontsize=15,color=\"red\")\n",
    "plt.xlabel('Lat')\n",
    "plt.ylabel('Windspeed')\n",
    "plt.savefig(\"../output_data/swind_lat.png\", dpi=100, facecolor='w')\n",
    "plt.show()\n",
    "print(f\"The -value is: {rvalue}\")"
   ]
  },
  {
   "cell_type": "code",
   "execution_count": null,
   "metadata": {},
   "outputs": [],
   "source": [
    "# there is little correlation between windspeed and the lat"
   ]
  }
 ],
 "metadata": {
  "anaconda-cloud": {},
  "kernel_info": {
   "name": "python3"
  },
  "kernelspec": {
   "display_name": "Python 3",
   "language": "python",
   "name": "python3"
  },
  "language_info": {
   "codemirror_mode": {
    "name": "ipython",
    "version": 3
   },
   "file_extension": ".py",
   "mimetype": "text/x-python",
   "name": "python",
   "nbconvert_exporter": "python",
   "pygments_lexer": "ipython3",
   "version": "3.8.8"
  },
  "latex_envs": {
   "LaTeX_envs_menu_present": true,
   "autoclose": false,
   "autocomplete": true,
   "bibliofile": "biblio.bib",
   "cite_by": "apalike",
   "current_citInitial": 1,
   "eqLabelWithNumbers": true,
   "eqNumInitial": 1,
   "hotkeys": {
    "equation": "Ctrl-E",
    "itemize": "Ctrl-I"
   },
   "labels_anchors": false,
   "latex_user_defs": false,
   "report_style_numbering": false,
   "user_envs_cfg": false
  },
  "nteract": {
   "version": "0.12.3"
  }
 },
 "nbformat": 4,
 "nbformat_minor": 2
}
